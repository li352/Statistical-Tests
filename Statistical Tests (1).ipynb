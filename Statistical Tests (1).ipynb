{
 "cells": [
  {
   "cell_type": "markdown",
   "metadata": {},
   "source": [
    "# 1. Normality Tests"
   ]
  },
  {
   "cell_type": "markdown",
   "metadata": {},
   "source": [
    "#### Shapiro-Wilk Normality Test"
   ]
  },
  {
   "cell_type": "code",
   "execution_count": 1,
   "metadata": {},
   "outputs": [
    {
     "name": "stdout",
     "output_type": "stream",
     "text": [
      "stat=0.895, p=0.193\n",
      "Probably Gaussian\n"
     ]
    }
   ],
   "source": [
    "from scipy.stats import shapiro\n",
    "data = [0.873, 2.817, 0.121, -0.945, -0.055, -1.436, 0.360, -1.478, -1.637, -1.869]\n",
    "stat, p = shapiro(data)\n",
    "print('stat=%.3f, p=%.3f' % (stat, p))\n",
    "if p > 0.05:\n",
    "\tprint('Probably Gaussian')\n",
    "else:\n",
    "\tprint('Probably not Gaussian')"
   ]
  },
  {
   "cell_type": "code",
   "execution_count": 2,
   "metadata": {},
   "outputs": [
    {
     "data": {
      "text/plain": [
       "(0.9920048713684082, 0.8215786218643188)"
      ]
     },
     "execution_count": 2,
     "metadata": {},
     "output_type": "execute_result"
    }
   ],
   "source": [
    "from scipy import stats\n",
    "import numpy as np\n",
    "np.random.seed(1)\n",
    "x = stats.norm.rvs(loc=5, scale=3, size=100)\n",
    "stats.shapiro(x)"
   ]
  },
  {
   "cell_type": "markdown",
   "metadata": {},
   "source": [
    "#### D'Agostino's K^2 Normality Test"
   ]
  },
  {
   "cell_type": "code",
   "execution_count": 3,
   "metadata": {},
   "outputs": [
    {
     "name": "stdout",
     "output_type": "stream",
     "text": [
      "(2.5039137892404635, 0.2859446853828548)\n",
      "Probably Gaussian\n"
     ]
    }
   ],
   "source": [
    "\n",
    "\n",
    "from scipy.stats import normaltest\n",
    "data = [ 0.88064804,  5.94547818,  7.53848194,  2.42145218,  6.05163794,\n",
    "        1.06314977,  4.88391347,  0.15268294,  8.36425312,  6.22670161,\n",
    "        4.92614913,  2.67451514,  8.82126779, 10.90130525, -0.57394559,\n",
    "        8.70849209,  9.88295226,  6.01403509,  1.4021959 ,  7.59003595,\n",
    "        4.45723909,  3.18823812,  1.30982559,  6.65161249,  7.3784206 ,\n",
    "        3.12940781,  6.56172901,  1.56697583,  7.4055831 ,  5.1397019 ]\n",
    "stat, p = normaltest(data)\n",
    "print( (stat, p))\n",
    "if p > 0.05:\n",
    "    print('Probably Gaussian')\n",
    "else:\n",
    "    print('Probably not Gaussian')\n"
   ]
  },
  {
   "cell_type": "code",
   "execution_count": 4,
   "metadata": {},
   "outputs": [
    {
     "data": {
      "text/plain": [
       "array([18.65861431, 23.67352311, 21.21047493, 21.78073557, 16.71526446,\n",
       "       20.5081473 , 22.22166935, 17.13889819, 19.20134448, 20.09784364])"
      ]
     },
     "execution_count": 4,
     "metadata": {},
     "output_type": "execute_result"
    }
   ],
   "source": [
    "x = stats.norm.rvs(loc=20, scale=3, size=10)\n",
    "x"
   ]
  },
  {
   "cell_type": "markdown",
   "metadata": {},
   "source": [
    "#### Anderson-Darling Normality Test"
   ]
  },
  {
   "cell_type": "code",
   "execution_count": 5,
   "metadata": {},
   "outputs": [
    {
     "name": "stdout",
     "output_type": "stream",
     "text": [
      "(0.317325281276446, array([0.501, 0.57 , 0.684, 0.798, 0.95 ]), array([15. , 10. ,  5. ,  2.5,  1. ]))\n",
      "Probably Gaussian at the 15.0% level\n",
      "Probably Gaussian at the 10.0% level\n",
      "Probably Gaussian at the 5.0% level\n",
      "Probably Gaussian at the 2.5% level\n",
      "Probably Gaussian at the 1.0% level\n"
     ]
    }
   ],
   "source": [
    "\n",
    "\n",
    "from scipy.stats import anderson\n",
    "data = [4.44029068, 4.69476238, 7.60665847, 7.25123492, 6.58839597,\n",
    "       5.41310363, 5.23346338, 6.85514079, 5.69748368, 7.04765422]\n",
    "result = anderson(data)\n",
    "print((result.statistic,result.critical_values,result.significance_level) )\n",
    "for i in range(len(result.critical_values)):\n",
    "    sl, cv = result.significance_level[i], result.critical_values[i]\n",
    "    if result.statistic < cv:\n",
    "        print('Probably Gaussian at the %.1f%% level' % (sl))\n",
    "    else:\n",
    "        print('Probably not Gaussian at the %.1f%% level' % (sl))\n"
   ]
  },
  {
   "cell_type": "markdown",
   "metadata": {},
   "source": [
    "# 2. Correlation test"
   ]
  },
  {
   "cell_type": "markdown",
   "metadata": {},
   "source": [
    "#### Pearson Correlation test"
   ]
  },
  {
   "cell_type": "code",
   "execution_count": 6,
   "metadata": {},
   "outputs": [
    {
     "name": "stdout",
     "output_type": "stream",
     "text": [
      "(0.5874264620922862, 0.0741553299931254)\n",
      "Probably independent\n"
     ]
    }
   ],
   "source": [
    "\n",
    "from scipy.stats import pearsonr\n",
    "data1 = [4.44029068, 4.69476238, 7.60665847, 7.25123492, 6.58839597,\n",
    "       5.41310363, 5.23346338, 6.85514079, 5.69748368, 7.04765422]\n",
    "data2 = [ 5.06964968, -1.30451329,  9.11647381, 12.56093894,  7.32409333,\n",
    "        5.6995343 ,  5.59066577,  5.64283744,  6.05222822,  2.63394381]\n",
    "stat, p = pearsonr(data1, data2)\n",
    "print( (stat, p))\n",
    "if p > 0.05:\n",
    "    print('Probably independent')\n",
    "else:\n",
    "    print('Probably dependent')"
   ]
  },
  {
   "cell_type": "code",
   "execution_count": 7,
   "metadata": {},
   "outputs": [
    {
     "name": "stdout",
     "output_type": "stream",
     "text": [
      "(1.0, 0.0)\n",
      "Probably dependent\n"
     ]
    }
   ],
   "source": [
    "\n",
    "from scipy.stats import pearsonr\n",
    "data1 = [4.44029068, 4.69476238, 7.60665847, 7.25123492, 6.58839597,\n",
    "       5.41310363, 5.23346338, 6.85514079, 5.69748368, 7.04765422]\n",
    "data2 = [4.44029068, 4.69476238, 7.60665847, 7.25123492, 6.58839597,\n",
    "       5.41310363, 5.23346338, 6.85514079, 5.69748368, 7.04765422]\n",
    "stat, p = pearsonr(data1, data2)\n",
    "print( (stat, p))\n",
    "if p > 0.05:\n",
    "    print('Probably independent')\n",
    "else:\n",
    "    print('Probably dependent')"
   ]
  },
  {
   "cell_type": "markdown",
   "metadata": {},
   "source": [
    "#### Spearman's Rank Correlation Test"
   ]
  },
  {
   "cell_type": "code",
   "execution_count": 8,
   "metadata": {},
   "outputs": [
    {
     "name": "stdout",
     "output_type": "stream",
     "text": [
      "(0.6363636363636362, 0.04791172612997547)\n",
      "Probably dependent\n"
     ]
    }
   ],
   "source": [
    " \n",
    "from scipy.stats import spearmanr\n",
    "data1 = [4.44029068, 4.69476238, 7.60665847, 7.25123492, 6.58839597,\n",
    "       5.41310363, 5.23346338, 6.85514079, 5.69748368, 7.04765422]\n",
    "data2 = [ 5.06964968, -1.30451329,  9.11647381, 12.56093894,  7.32409333,\n",
    "        5.6995343 ,  5.59066577,  5.64283744,  6.05222822,  2.63394381]\n",
    "stat, p = spearmanr(data1, data2)\n",
    "print( (stat, p))\n",
    "if p > 0.05:\n",
    "    print('Probably independent')\n",
    "else:\n",
    "    print('Probably dependent')"
   ]
  },
  {
   "cell_type": "code",
   "execution_count": 9,
   "metadata": {},
   "outputs": [
    {
     "name": "stdout",
     "output_type": "stream",
     "text": [
      "(0.9999999999999999, 6.646897422032013e-64)\n",
      "Probably dependent\n"
     ]
    }
   ],
   "source": [
    "from scipy.stats import spearmanr\n",
    "data1 = [4.44029068, 4.69476238, 7.60665847, 7.25123492, 6.58839597,\n",
    "       5.41310363, 5.23346338, 6.85514079, 5.69748368, 7.04765422]\n",
    "data2 = [4.44029068, 4.69476238, 7.60665847, 7.25123492, 6.58839597,\n",
    "       5.41310363, 5.23346338, 6.85514079, 5.69748368, 7.04765422]\n",
    "stat, p = spearmanr(data1, data2)\n",
    "print( (stat, p))\n",
    "if p > 0.05:\n",
    "    print('Probably independent')\n",
    "else:\n",
    "    print('Probably dependent')"
   ]
  },
  {
   "cell_type": "markdown",
   "metadata": {},
   "source": [
    "#### Kendall's Rank Correlation Test"
   ]
  },
  {
   "cell_type": "code",
   "execution_count": 10,
   "metadata": {},
   "outputs": [
    {
     "name": "stdout",
     "output_type": "stream",
     "text": [
      "(0.022222222222222223, 1.0)\n",
      "Probably independent\n"
     ]
    }
   ],
   "source": [
    "\n",
    "from scipy.stats import kendalltau\n",
    "data1 = [4.44029068, 4.69476238, 7.60665847, 7.25123492, 6.58839597,\n",
    "       5.41310363, 5.23346338, 6.85514079, 5.69748368, 7.04765422]\n",
    "data2 = [20.31866817, 15.42295905, 22.38507828, 18.87668504, 20.40214459,\n",
    "       23.60616459, 20.85424433, 20.78740234, 20.82949791, 17.80018519]\n",
    "stat, p = kendalltau(data1, data2)\n",
    "print((stat, p))\n",
    "if p > 0.05:\n",
    "\tprint('Probably independent')\n",
    "else:\n",
    "\tprint('Probably dependent')"
   ]
  },
  {
   "cell_type": "code",
   "execution_count": 11,
   "metadata": {},
   "outputs": [
    {
     "data": {
      "text/plain": [
       "<matplotlib.axes._subplots.AxesSubplot at 0x1a1fd1f9d0>"
      ]
     },
     "execution_count": 11,
     "metadata": {},
     "output_type": "execute_result"
    },
    {
     "data": {
      "image/png": "[encoded data removed]",
      "text/plain": [
       "<Figure size 432x288 with 1 Axes>"
      ]
     },
     "metadata": {
      "needs_background": "light"
     },
     "output_type": "display_data"
    }
   ],
   "source": [
    "import seaborn as sns\n",
    "sns.distplot(data1)"
   ]
  },
  {
   "cell_type": "code",
   "execution_count": 12,
   "metadata": {},
   "outputs": [
    {
     "data": {
      "text/plain": [
       "<matplotlib.axes._subplots.AxesSubplot at 0x1a1fed2390>"
      ]
     },
     "execution_count": 12,
     "metadata": {},
     "output_type": "execute_result"
    },
    {
     "data": {
      "image/png": "[encoded data removed]",
      "text/plain": [
       "<Figure size 432x288 with 1 Axes>"
      ]
     },
     "metadata": {
      "needs_background": "light"
     },
     "output_type": "display_data"
    }
   ],
   "source": [
    "\n",
    "sns.distplot(data2)"
   ]
  },
  {
   "cell_type": "code",
   "execution_count": 13,
   "metadata": {},
   "outputs": [
    {
     "name": "stdout",
     "output_type": "stream",
     "text": [
      "(0.5111111111111111, 0.04662257495590829)\n",
      "Probably dependent\n"
     ]
    }
   ],
   "source": [
    "from scipy.stats import kendalltau\n",
    "data1 = [4.44029068, 4.69476238, 7.60665847, 7.25123492, 6.58839597,\n",
    "       5.41310363, 5.23346338, 6.85514079, 5.69748368, 7.04765422]\n",
    "data2 = [ 5.06964968, -1.30451329,  9.11647381, 12.56093894,  7.32409333,\n",
    "        5.6995343 ,  5.59066577,  5.64283744,  6.05222822,  2.63394381]\n",
    "stat, p = kendalltau(data1, data2)\n",
    "print((stat, p))\n",
    "if p > 0.05:\n",
    "    print('Probably independent')\n",
    "else:\n",
    "    print('Probably dependent')"
   ]
  },
  {
   "cell_type": "markdown",
   "metadata": {},
   "source": [
    "#### Chi-Squared Test\n",
    "Assumptions:\n",
    "Observations used in the calculation of the contingency table are independent.\n",
    "25 or more examples in each cell of the contingency table."
   ]
  },
  {
   "cell_type": "code",
   "execution_count": 14,
   "metadata": {},
   "outputs": [
    {
     "name": "stdout",
     "output_type": "stream",
     "text": [
      "(0.27157465150403504, 0.873028283380073, 2, array([[10.43478261, 18.91304348, 30.65217391],\n",
      "       [ 5.56521739, 10.08695652, 16.34782609]]))\n",
      "Probably independent\n"
     ]
    }
   ],
   "source": [
    "from scipy.stats import chi2_contingency\n",
    "table = [[10, 20, 30],[6,  9,  17]]\n",
    "stat, p, dof, expected = chi2_contingency(table)\n",
    "print((stat, p, dof, expected))\n",
    "if p > 0.05:\n",
    "    print('Probably independent')\n",
    "else:\n",
    "    print('Probably dependent')"
   ]
  },
  {
   "cell_type": "code",
   "execution_count": 15,
   "metadata": {},
   "outputs": [
    {
     "name": "stdout",
     "output_type": "stream",
     "text": [
      "(4.17439703153989, 0.12403412919920884, 2, array([[15.55555556, 20.        , 24.44444444],\n",
      "       [54.44444444, 70.        , 85.55555556]]))\n",
      "Probably independent\n"
     ]
    }
   ],
   "source": [
    "from scipy.stats import chi2_contingency\n",
    "table = [[10, 20, 30],[60,70,80]]\n",
    "stat, p, dof, expected = chi2_contingency(table)\n",
    "print((stat, p, dof, expected))\n",
    "if p > 0.05:\n",
    "    print('Probably independent')\n",
    "else:\n",
    "    print('Probably dependent')"
   ]
  },
  {
   "cell_type": "markdown",
   "metadata": {},
   "source": [
    "# 3. Stationary Tests"
   ]
  },
  {
   "cell_type": "markdown",
   "metadata": {},
   "source": [
    "#### Augmented Dickey-Fuller unit root test"
   ]
  },
  {
   "cell_type": "code",
   "execution_count": 16,
   "metadata": {},
   "outputs": [
    {
     "name": "stdout",
     "output_type": "stream",
     "text": [
      "(0.9921567416492214, 0.9941824998493046)\n",
      "Probably not Stationary\n"
     ]
    }
   ],
   "source": [
    "from statsmodels.tsa.stattools import adfuller\n",
    "data = [0, 1, 2, 3, 4, 5, 6, 7, 8, 9]\n",
    "stat, p, lags, obs, crit, t = adfuller(data)\n",
    "print((stat, p))\n",
    "if p > 0.05:\n",
    "\tprint('Probably not Stationary')\n",
    "else:\n",
    "\tprint('Probably Stationary')"
   ]
  },
  {
   "cell_type": "code",
   "execution_count": 17,
   "metadata": {},
   "outputs": [
    {
     "name": "stdout",
     "output_type": "stream",
     "text": [
      "(-2.8938317495801793, 0.0460699972411583)\n",
      "Probably Stationary\n"
     ]
    }
   ],
   "source": [
    "from statsmodels.tsa.stattools import adfuller\n",
    "data = [20.83600472, 21.54335911, 20.75880566, 20.88490881, 19.12271848,\n",
    "       19.13221278, 18.55912398, 21.23225307, 19.74582013, 21.39984394]\n",
    "stat, p, lags, obs, crit, t = adfuller(data)\n",
    "print((stat, p))\n",
    "if p > 0.05:\n",
    "\tprint('Probably not Stationary')\n",
    "else:\n",
    "\tprint('Probably Stationary')"
   ]
  },
  {
   "cell_type": "code",
   "execution_count": 18,
   "metadata": {},
   "outputs": [
    {
     "data": {
      "text/plain": [
       "array([18.62688268, 20.31515939, 20.84616065, 19.14048406, 20.35054598,\n",
       "       18.68771659, 19.96130449, 18.38422765, 21.12141771, 20.40890054])"
      ]
     },
     "execution_count": 18,
     "metadata": {},
     "output_type": "execute_result"
    }
   ],
   "source": [
    "x = stats.norm.rvs(loc=20, scale=1, size=10)\n",
    "x"
   ]
  },
  {
   "cell_type": "markdown",
   "metadata": {},
   "source": [
    "#### Kwiatkowski-Phillips-Schmidt-Shin test"
   ]
  },
  {
   "cell_type": "code",
   "execution_count": 19,
   "metadata": {},
   "outputs": [
    {
     "name": "stdout",
     "output_type": "stream",
     "text": [
      "(0.4099630996309963, 0.072860732917674)\n",
      "Probably not Stationary\n"
     ]
    },
    {
     "name": "stderr",
     "output_type": "stream",
     "text": [
      "/Users/linduri/opt/anaconda3/lib/python3.7/site-packages/statsmodels/tsa/stattools.py:1661: FutureWarning: The behavior of using lags=None will change in the next release. Currently lags=None is the same as lags='legacy', and so a sample-size lag length is used. After the next release, the default will change to be the same as lags='auto' which uses an automatic lag length selection method. To silence this warning, either use 'auto' or 'legacy'\n",
      "  warn(msg, FutureWarning)\n"
     ]
    }
   ],
   "source": [
    "from statsmodels.tsa.stattools import kpss\n",
    "data = [0, 1, 2, 3, 4, 5, 6, 7, 8, 9]\n",
    "stat, p, lags, crit = kpss(data)\n",
    "print((stat, p))\n",
    "if p > 0.05:\n",
    "    print('Probably not Stationary')\n",
    "else:\n",
    "    print('Probably Stationary')"
   ]
  },
  {
   "cell_type": "code",
   "execution_count": 20,
   "metadata": {},
   "outputs": [
    {
     "name": "stdout",
     "output_type": "stream",
     "text": [
      "(0.3898905545034918, 0.08151269202435699)\n",
      "Probably not Stationary\n"
     ]
    }
   ],
   "source": [
    "from statsmodels.tsa.stattools import kpss\n",
    "data = [20.83600472, 21.54335911, 20.75880566, 20.88490881, 19.12271848,\n",
    "       19.13221278, 18.55912398, 21.23225307, 19.74582013, 21.39984394]\n",
    "stat, p, lags, crit = kpss(data)\n",
    "print((stat, p))\n",
    "if p > 0.05:\n",
    "    print('Probably not Stationary')\n",
    "else:\n",
    "    print('Probably Stationary')"
   ]
  },
  {
   "cell_type": "markdown",
   "metadata": {},
   "source": [
    "# 4. Parametric Statistical Hypothesis Tests"
   ]
  },
  {
   "cell_type": "markdown",
   "metadata": {},
   "source": [
    "#### Student's t-test"
   ]
  },
  {
   "cell_type": "code",
   "execution_count": 21,
   "metadata": {},
   "outputs": [
    {
     "name": "stdout",
     "output_type": "stream",
     "text": [
      "stat=47.398, p=0.000\n",
      "Probably different distributions\n"
     ]
    }
   ],
   "source": [
    " from scipy.stats import ttest_ind\n",
    "data1 = [20.83600472, 21.54335911, 20.75880566, 20.88490881, 19.12271848,\n",
    "       19.13221278, 18.55912398, 21.23225307, 19.74582013, 21.39984394]\n",
    "data2 = [1.142, -0.432, -0.938, -0.729, -0.846, -0.157, 0.500, 1.183, -1.075, -0.169]\n",
    "stat, p = ttest_ind(data1, data2)\n",
    "print('stat=%.3f, p=%.3f' % (stat, p))\n",
    "if p > 0.05:\n",
    "\tprint('Probably the same distribution')\n",
    "else:\n",
    "\tprint('Probably different distributions')"
   ]
  },
  {
   "cell_type": "markdown",
   "metadata": {},
   "source": [
    "#### Paired Student's t-test"
   ]
  },
  {
   "cell_type": "code",
   "execution_count": 22,
   "metadata": {},
   "outputs": [
    {
     "name": "stdout",
     "output_type": "stream",
     "text": [
      "(-0.3341680721407323, 0.7459078283577478)\n",
      "Probably the same distribution\n"
     ]
    }
   ],
   "source": [
    "\n",
    "from scipy.stats import ttest_rel\n",
    "data1 = [0.873, 2.817, 0.121, -0.945, -0.055, -1.436, 0.360, -1.478, -1.637, -1.869]\n",
    "data2 = [1.142, -0.432, -0.938, -0.729, -0.846, -0.157, 0.500, 1.183, -1.075, -0.169]\n",
    "stat, p = ttest_rel(data1, data2)\n",
    "print((stat, p))\n",
    "if p > 0.05:\n",
    "    print('Probably the same distribution')\n",
    "else:\n",
    "    print('Probably different distributions')"
   ]
  },
  {
   "cell_type": "markdown",
   "metadata": {},
   "source": [
    "#### Analysis of Variance Test"
   ]
  },
  {
   "cell_type": "code",
   "execution_count": 23,
   "metadata": {},
   "outputs": [
    {
     "name": "stdout",
     "output_type": "stream",
     "text": [
      "stat=0.096, p=0.908\n",
      "Probably the same distribution\n"
     ]
    }
   ],
   "source": [
    " from scipy.stats import f_oneway\n",
    "data1 = [0.873, 2.817, 0.121, -0.945, -0.055, -1.436, 0.360, -1.478, -1.637, -1.869]\n",
    "data2 = [1.142, -0.432, -0.938, -0.729, -0.846, -0.157, 0.500, 1.183, -1.075, -0.169]\n",
    "data3 = [-0.208, 0.696, 0.928, -1.148, -0.213, 0.229, 0.137, 0.269, -0.870, -1.204]\n",
    "stat, p = f_oneway(data1, data2, data3)\n",
    "print('stat=%.3f, p=%.3f' % (stat, p))\n",
    "if p > 0.05:\n",
    "    print('Probably the same distribution')\n",
    "else:\n",
    "    print('Probably different distributions')"
   ]
  },
  {
   "cell_type": "code",
   "execution_count": 24,
   "metadata": {},
   "outputs": [
    {
     "name": "stdout",
     "output_type": "stream",
     "text": [
      "(505.7878888811561, 3.994801990547305e-22)\n",
      "Probably different distributions\n"
     ]
    }
   ],
   "source": [
    "\n",
    "\n",
    " from scipy.stats import f_oneway\n",
    "data1 = [19.21808832, 19.56249102, 20.09542509, 20.92145007, 20.0607502 ,\n",
    "       20.21112476, 20.01652757, 20.17718772, 18.88352998, 20.0809271 ]\n",
    "data2 = [ 9.81342101,  9.94317552, 10.49233656,  9.31932186,  9.91549197,\n",
    "        9.70263812, 10.417302  , 10.78477065,  9.04457474, 10.58591043]\n",
    "data3 = [21.12341216, 20.30526704, 21.3887794 , 19.33865576, 23.03085711,\n",
    "       20.82458463, 20.65458015, 19.94881155, 19.27440288, 19.13223132]\n",
    "stat, p = f_oneway(data1, data2, data3)\n",
    "print((stat, p))\n",
    "if p > 0.05:\n",
    "    print('Probably the same distribution')\n",
    "else:\n",
    "    print('Probably different distributions')"
   ]
  },
  {
   "cell_type": "code",
   "execution_count": 25,
   "metadata": {},
   "outputs": [
    {
     "data": {
      "text/plain": [
       "array([19.97538304, 19.22483838, 21.27375593, 21.96710175, 18.14201814,\n",
       "       21.23616403, 21.62765075, 20.3380117 , 18.80073197, 20.86334532])"
      ]
     },
     "execution_count": 25,
     "metadata": {},
     "output_type": "execute_result"
    }
   ],
   "source": [
    "x = stats.norm.rvs(loc=20, scale=1, size=10)\n",
    "x"
   ]
  },
  {
   "cell_type": "code",
   "execution_count": 26,
   "metadata": {},
   "outputs": [
    {
     "name": "stdout",
     "output_type": "stream",
     "text": [
      "(0.05393841645559586, 0.9475922845677245)\n",
      "Probably the same distribution\n"
     ]
    }
   ],
   "source": [
    "from scipy.stats import f_oneway\n",
    "data1 = [19.21808832, 19.56249102, 20.09542509, 20.92145007, 20.0607502 ,\n",
    "       20.21112476, 20.01652757, 20.17718772, 18.88352998, 20.0809271 ]\n",
    "data2 = [21.01012718, 20.92001793, 19.80494266, 20.80539342, 19.29865557,\n",
    "       19.46277698, 20.15626385, 19.80977897, 19.55126197, 19.32755196]\n",
    "data3 = [19.58836084, 21.27852808, 19.55777072, 20.32352735, 19.89000851,\n",
    "       20.00854895, 19.83180116, 19.82581966, 20.4611641 , 18.82401733]\n",
    "stat, p = f_oneway(data1, data2, data3)\n",
    "print((stat, p))\n",
    "if p > 0.05:\n",
    "    print('Probably the same distribution')\n",
    "else:\n",
    "    print('Probably different distributions')"
   ]
  },
  {
   "cell_type": "markdown",
   "metadata": {},
   "source": [
    "# 5. Nonparametric Statistical Hypothesis Tests\n"
   ]
  },
  {
   "cell_type": "markdown",
   "metadata": {},
   "source": [
    "#### Mann-Whitney U Test"
   ]
  },
  {
   "cell_type": "code",
   "execution_count": 27,
   "metadata": {},
   "outputs": [
    {
     "name": "stdout",
     "output_type": "stream",
     "text": [
      "(0.0, 9.133589555477501e-05)\n",
      "Probably different distributions\n"
     ]
    }
   ],
   "source": [
    "\n",
    "from scipy.stats import mannwhitneyu\n",
    "data1 = [19.21808832, 19.56249102, 20.09542509, 20.92145007, 20.0607502 ,\n",
    "       20.21112476, 20.01652757, 20.17718772, 18.88352998, 20.0809271 ]\n",
    "data2 = [ 9.81342101,  9.94317552, 10.49233656,  9.31932186,  9.91549197,\n",
    "        9.70263812, 10.417302  , 10.78477065,  9.04457474, 10.58591043]\n",
    "stat, p = mannwhitneyu(data1, data2)\n",
    "print( (stat, p))\n",
    "if p > 0.05:\n",
    "    print('Probably the same distribution')\n",
    "else:\n",
    "    print('Probably different distributions')"
   ]
  },
  {
   "cell_type": "markdown",
   "metadata": {},
   "source": [
    "#### Wilcoxon Signed-Rank Test"
   ]
  },
  {
   "cell_type": "code",
   "execution_count": 28,
   "metadata": {},
   "outputs": [
    {
     "name": "stdout",
     "output_type": "stream",
     "text": [
      "(0.0, 0.005062032126267864)\n",
      "Probably different distributions\n"
     ]
    }
   ],
   "source": [
    "from scipy.stats import wilcoxon\n",
    "data1 = [19.21808832, 19.56249102, 20.09542509, 20.92145007, 20.0607502 ,\n",
    "       20.21112476, 20.01652757, 20.17718772, 18.88352998, 20.0809271 ]\n",
    "data2 = [ 9.81342101,  9.94317552, 10.49233656,  9.31932186,  9.91549197,\n",
    "        9.70263812, 10.417302  , 10.78477065,  9.04457474, 10.58591043]\n",
    "stat, p = wilcoxon(data1, data2)\n",
    "print( (stat, p))\n",
    "if p > 0.05:\n",
    "    print('Probably the same distribution')\n",
    "else:\n",
    "    print('Probably different distributions')"
   ]
  },
  {
   "cell_type": "markdown",
   "metadata": {},
   "source": [
    "#### Kruskal-Wallis H Test"
   ]
  },
  {
   "cell_type": "code",
   "execution_count": 29,
   "metadata": {},
   "outputs": [
    {
     "name": "stdout",
     "output_type": "stream",
     "text": [
      "stat=0.571, p=0.450\n",
      "Probably the same distribution\n"
     ]
    }
   ],
   "source": [
    "# Example of the Kruskal-Wallis H Test\n",
    "from scipy.stats import kruskal\n",
    "data1 = [0.873, 2.817, 0.121, -0.945, -0.055, -1.436, 0.360, -1.478, -1.637, -1.869]\n",
    "data2 = [1.142, -0.432, -0.938, -0.729, -0.846, -0.157, 0.500, 1.183, -1.075, -0.169]\n",
    "stat, p = kruskal(data1, data2)\n",
    "print('stat=%.3f, p=%.3f' % (stat, p))\n",
    "if p > 0.05:\n",
    "    print('Probably the same distribution')\n",
    "else:\n",
    "    print('Probably different distributions')"
   ]
  },
  {
   "cell_type": "markdown",
   "metadata": {},
   "source": [
    "#### Friedman Test"
   ]
  },
  {
   "cell_type": "code",
   "execution_count": 30,
   "metadata": {},
   "outputs": [
    {
     "name": "stdout",
     "output_type": "stream",
     "text": [
      "stat=0.800, p=0.670\n",
      "Probably the same distribution\n"
     ]
    }
   ],
   "source": [
    "from scipy.stats import friedmanchisquare\n",
    "data1 = [0.873, 2.817, 0.121, -0.945, -0.055, -1.436, 0.360, -1.478, -1.637, -1.869]\n",
    "data2 = [1.142, -0.432, -0.938, -0.729, -0.846, -0.157, 0.500, 1.183, -1.075, -0.169]\n",
    "data3 = [-0.208, 0.696, 0.928, -1.148, -0.213, 0.229, 0.137, 0.269, -0.870, -1.204]\n",
    "stat, p = friedmanchisquare(data1, data2, data3)\n",
    "print('stat=%.3f, p=%.3f' % (stat, p))\n",
    "if p > 0.05:\n",
    "    print('Probably the same distribution')\n",
    "else:\n",
    "    print('Probably different distributions')"
   ]
  }
 ],
 "metadata": {
  "kernelspec": {
   "display_name": "Python 3",
   "language": "python",
   "name": "python3"
  },
  "language_info": {
   "codemirror_mode": {
    "name": "ipython",
    "version": 3
   },
   "file_extension": ".py",
   "mimetype": "text/x-python",
   "name": "python",
   "nbconvert_exporter": "python",
   "pygments_lexer": "ipython3",
   "version": "3.7.6"
  }
 },
 "nbformat": 4,
 "nbformat_minor": 4
}
